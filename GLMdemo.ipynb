{
 "cells": [
  {
   "cell_type": "code",
   "execution_count": 30,
   "metadata": {},
   "outputs": [],
   "source": [
    "import numpy as np\n",
    "import statsmodels.api as sm\n",
    "import pandas as pd\n",
    "from scipy.stats import norm\n",
    "from scipy.stats import bernoulli\n",
    "from scipy.stats import poisson\n",
    "from scipy.optimize import minimize\n",
    "import argparse\n",
    "from GRA41522 import DataLoader, LoadSMdataset, Loadcsv\n",
    "from GRA41522 import GLM, Normal, Bernoulli, Poisson"
   ]
  },
  {
   "cell_type": "code",
   "execution_count": null,
   "metadata": {},
   "outputs": [
    {
     "data": {
      "text/plain": [
       "_StoreAction(option_strings=[], dest='model', nargs=None, const=None, default=None, type=None, choices=None, required=True, help=None, metavar=None)"
      ]
     },
     "execution_count": 44,
     "metadata": {},
     "output_type": "execute_result"
    }
   ],
   "source": [
    "parser = argparse.ArgumentParser()\n",
    "parser.add_argument(\"model\", dset =)"
   ]
  },
  {
   "cell_type": "code",
   "execution_count": null,
   "metadata": {},
   "outputs": [],
   "source": [
    "from sklearn.datasets import make_regression\n",
    "x1, y1 = make_regression(n_samples=5, n_features=2, noise=1, random_state=42)"
   ]
  },
  {
   "cell_type": "code",
   "execution_count": 32,
   "metadata": {},
   "outputs": [
    {
     "name": "stdout",
     "output_type": "stream",
     "text": [
      "[18.59492168 17.02196776]\n"
     ]
    },
    {
     "data": {
      "text/plain": [
       "array([ 6.88283029, 37.96868275, -8.3395354 ,  0.50560013, 42.42858783])"
      ]
     },
     "execution_count": 32,
     "metadata": {},
     "output_type": "execute_result"
    }
   ],
   "source": [
    "n = Normal(X, y)\n",
    "n.fit()\n",
    "print(n.beta)\n",
    "n.predict()"
   ]
  },
  {
   "cell_type": "code",
   "execution_count": 33,
   "metadata": {},
   "outputs": [
    {
     "name": "stdout",
     "output_type": "stream",
     "text": [
      "[18.59492167 17.0219678 ]\n"
     ]
    },
    {
     "data": {
      "text/plain": [
       "array([ 6.88283028, 37.9686828 , -8.3395354 ,  0.50560016, 42.42858784])"
      ]
     },
     "execution_count": 33,
     "metadata": {},
     "output_type": "execute_result"
    }
   ],
   "source": [
    "normal_mod = sm.GLM(y, X, family = sm.families.Gaussian())\n",
    "res = normal_mod.fit()\n",
    "print(res.params)\n",
    "res.predict(X)"
   ]
  },
  {
   "cell_type": "code",
   "execution_count": 40,
   "metadata": {},
   "outputs": [
    {
     "name": "stdout",
     "output_type": "stream",
     "text": [
      "[ 1.20297935 -0.26025476  0.1       ]\n",
      "0    0.118661\n",
      "1    0.095436\n",
      "2    0.091095\n",
      "3    0.596197\n",
      "4    0.342216\n",
      "dtype: float64\n"
     ]
    }
   ],
   "source": [
    "df = sm.datasets.spector.load_pandas()\n",
    "Y = df.endog.iloc[:5]\n",
    "x = df.exog.iloc[:5,:]\n",
    "m = Bernoulli(x, Y)\n",
    "m.fit()\n",
    "print(m.beta)\n",
    "print(m.predict(x))"
   ]
  },
  {
   "cell_type": "code",
   "execution_count": 39,
   "metadata": {},
   "outputs": [
    {
     "name": "stdout",
     "output_type": "stream",
     "text": [
      "GPA     1.202978\n",
      "TUCE   -0.260255\n",
      "PSI     0.000000\n",
      "dtype: float64\n",
      "[0.11866125 0.09543633 0.09109472 0.5961965  0.3422164 ]\n"
     ]
    }
   ],
   "source": [
    "logit_mod = sm.GLM(Y, x, family = sm.families.Binomial())\n",
    "res1 = logit_mod.fit()\n",
    "print(res1.params)\n",
    "print(res1.predict())"
   ]
  },
  {
   "cell_type": "code",
   "execution_count": 45,
   "metadata": {},
   "outputs": [],
   "source": [
    "p = DataLoader(LoaderType= Loadcsv)\n",
    "file_path=\"warpbreaks.csv\""
   ]
  },
  {
   "cell_type": "code",
   "execution_count": 50,
   "metadata": {},
   "outputs": [
    {
     "data": {
      "text/plain": [
       "array([1.85745987, 1.03961996])"
      ]
     },
     "execution_count": 50,
     "metadata": {},
     "output_type": "execute_result"
    }
   ],
   "source": [
    "p = pd.read_csv(\"warpbreaks.csv\")\n",
    "p.head()\n",
    "Y2 = p['breaks']\n",
    "X2 = p[['wool','tension']]\n",
    "poi = Poisson(X2,Y2)\n",
    "poi.fit()\n",
    "poi.beta"
   ]
  },
  {
   "cell_type": "code",
   "execution_count": 51,
   "metadata": {},
   "outputs": [
    {
     "data": {
      "text/plain": [
       "0      1.000000\n",
       "1      1.000000\n",
       "2      1.000000\n",
       "3      1.000000\n",
       "4      1.000000\n",
       "5      1.000000\n",
       "6      1.000000\n",
       "7      1.000000\n",
       "8      1.000000\n",
       "9      2.828142\n",
       "10     2.828142\n",
       "11     2.828142\n",
       "12     2.828142\n",
       "13     2.828142\n",
       "14     2.828142\n",
       "15     2.828142\n",
       "16     2.828142\n",
       "17     2.828142\n",
       "18     7.998387\n",
       "19     7.998387\n",
       "20     7.998387\n",
       "21     7.998387\n",
       "22     7.998387\n",
       "23     7.998387\n",
       "24     7.998387\n",
       "25     7.998387\n",
       "26     7.998387\n",
       "27     6.407440\n",
       "28     6.407440\n",
       "29     6.407440\n",
       "30     6.407440\n",
       "31     6.407440\n",
       "32     6.407440\n",
       "33     6.407440\n",
       "34     6.407440\n",
       "35     6.407440\n",
       "36    18.121151\n",
       "37    18.121151\n",
       "38    18.121151\n",
       "39    18.121151\n",
       "40    18.121151\n",
       "41    18.121151\n",
       "42    18.121151\n",
       "43    18.121151\n",
       "44    18.121151\n",
       "45    51.249188\n",
       "46    51.249188\n",
       "47    51.249188\n",
       "48    51.249188\n",
       "49    51.249188\n",
       "50    51.249188\n",
       "51    51.249188\n",
       "52    51.249188\n",
       "53    51.249188\n",
       "dtype: float64"
      ]
     },
     "execution_count": 51,
     "metadata": {},
     "output_type": "execute_result"
    }
   ],
   "source": [
    "poi.predict(X2)"
   ]
  },
  {
   "cell_type": "code",
   "execution_count": 52,
   "metadata": {},
   "outputs": [
    {
     "data": {
      "text/plain": [
       "wool       1.85746\n",
       "tension    1.03962\n",
       "dtype: float64"
      ]
     },
     "execution_count": 52,
     "metadata": {},
     "output_type": "execute_result"
    }
   ],
   "source": [
    "poisson_mod = sm.GLM(Y2, X2, family = sm.families.Poisson())\n",
    "res3 = poisson_mod.fit()\n",
    "res3.params"
   ]
  },
  {
   "cell_type": "code",
   "execution_count": 53,
   "metadata": {},
   "outputs": [
    {
     "data": {
      "text/plain": [
       "array([ 1.        ,  1.        ,  1.        ,  1.        ,  1.        ,\n",
       "        1.        ,  1.        ,  1.        ,  1.        ,  2.82814215,\n",
       "        2.82814215,  2.82814215,  2.82814215,  2.82814215,  2.82814215,\n",
       "        2.82814215,  2.82814215,  2.82814215,  7.998388  ,  7.998388  ,\n",
       "        7.998388  ,  7.998388  ,  7.998388  ,  7.998388  ,  7.998388  ,\n",
       "        7.998388  ,  7.998388  ,  6.40743962,  6.40743962,  6.40743962,\n",
       "        6.40743962,  6.40743962,  6.40743962,  6.40743962,  6.40743962,\n",
       "        6.40743962, 18.12115003, 18.12115003, 18.12115003, 18.12115003,\n",
       "       18.12115003, 18.12115003, 18.12115003, 18.12115003, 18.12115003,\n",
       "       51.24918813, 51.24918813, 51.24918813, 51.24918813, 51.24918813,\n",
       "       51.24918813, 51.24918813, 51.24918813, 51.24918813])"
      ]
     },
     "execution_count": 53,
     "metadata": {},
     "output_type": "execute_result"
    }
   ],
   "source": [
    "res3.predict()"
   ]
  },
  {
   "cell_type": "code",
   "execution_count": null,
   "metadata": {},
   "outputs": [],
   "source": []
  }
 ],
 "metadata": {
  "kernelspec": {
   "display_name": "base",
   "language": "python",
   "name": "python3"
  },
  "language_info": {
   "codemirror_mode": {
    "name": "ipython",
    "version": 3
   },
   "file_extension": ".py",
   "mimetype": "text/x-python",
   "name": "python",
   "nbconvert_exporter": "python",
   "pygments_lexer": "ipython3",
   "version": "3.9.13"
  }
 },
 "nbformat": 4,
 "nbformat_minor": 2
}
